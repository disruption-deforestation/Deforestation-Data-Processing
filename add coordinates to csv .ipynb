{
 "cells": [
  {
   "cell_type": "code",
   "execution_count": null,
   "metadata": {},
   "outputs": [],
   "source": [
    "import rasterio as rio\n",
    "import numpy as np\n",
    "import pandas as pd"
   ]
  },
  {
   "cell_type": "code",
   "execution_count": null,
   "metadata": {},
   "outputs": [],
   "source": [
    "with rio.open('Hansen_GFC-2018-v1.6_lossyear_10S_060W.tif') as defor:\n",
    "    data = defor.read()\n",
    "    \n",
    "data = np.squeeze(data)"
   ]
  },
  {
   "cell_type": "code",
   "execution_count": null,
   "metadata": {},
   "outputs": [],
   "source": [
    "PIXEL_NUM_METERS = 30 # meters in each pixel \n",
    "PIX_PER_GRID = 100 # 3km by 3km grid \n",
    "NUM_PIXELS = len(data) # total number of pixels in current dataset"
   ]
  },
  {
   "cell_type": "code",
   "execution_count": null,
   "metadata": {},
   "outputs": [],
   "source": [
    "CENTER = PIXELS_PER_GRID/2 #where to start to get the center of the pixel "
   ]
  },
  {
   "cell_type": "code",
   "execution_count": null,
   "metadata": {},
   "outputs": [],
   "source": [
    "#subsetting center coordinates of each grid \n",
    "x_index = np.arange(CENTER, NUM_PIXELS, PIX_PER_GRID)\n",
    "y_index = np.arange(CENTER, NUM_PIXELS, PIX_PER_GRID)\n",
    "\n",
    "#creating coordinate grid w/given x and y indices  \n",
    "x_grid, y_grid = np.meshgrid(x_index, y_index)\n",
    "\n",
    "#converting 2d array to 1d so it can be appended to the dataset \n",
    "x = np.ndarray.flatten(x_grid)\n",
    "y = np.ndarray.flatten(y_grid)\n",
    "\n",
    "#applying Affine matrix's transformation from coordinate grid to global coordinates\n",
    "A = defor.transform\n",
    "lat, long = rio.transform.xy(A, x, y)"
   ]
  },
  {
   "cell_type": "code",
   "execution_count": null,
   "metadata": {},
   "outputs": [],
   "source": [
    "#update csv files with latitude and longitude  \n",
    "years = np.arange(2001, 2019)\n",
    "\n",
    "for yr in years:\n",
    "    df = pd.read_csv(\"defor_{}.csv\".format(yr))\n",
    "    df['lat'] = lat\n",
    "    df['long'] = long\n",
    "    df.to_csv(\"defor_{}.csv\".format(yr), index = False)"
   ]
  }
 ],
 "metadata": {
  "kernelspec": {
   "display_name": "Python 3",
   "language": "python",
   "name": "python3"
  },
  "language_info": {
   "codemirror_mode": {
    "name": "ipython",
    "version": 3
   },
   "file_extension": ".py",
   "mimetype": "text/x-python",
   "name": "python",
   "nbconvert_exporter": "python",
   "pygments_lexer": "ipython3",
   "version": "3.7.1"
  }
 },
 "nbformat": 4,
 "nbformat_minor": 2
}
