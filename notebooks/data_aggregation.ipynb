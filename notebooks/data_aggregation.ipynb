{
 "cells": [
  {
   "cell_type": "markdown",
   "metadata": {},
   "source": [
    "# Data Aggregation"
   ]
  },
  {
   "cell_type": "markdown",
   "metadata": {},
   "source": [
    "## Importing Essential Libraries"
   ]
  },
  {
   "cell_type": "code",
   "execution_count": 1,
   "metadata": {},
   "outputs": [],
   "source": [
    "import matplotlib.pyplot as plt\n",
    "import numpy as np\n",
    "import pandas as pd\n",
    "import rasterio as rio\n",
    "import geopy.distance\n",
    "import math"
   ]
  },
  {
   "cell_type": "markdown",
   "metadata": {},
   "source": [
    "## Loading Data"
   ]
  },
  {
   "cell_type": "code",
   "execution_count": 2,
   "metadata": {},
   "outputs": [],
   "source": [
    "maize_data_path = \"../data/raw/yield_maize.tif\"\n",
    "soybean_data_path = \"../data/raw/yield_soybean.tif\"\n",
    "defor_img_path = \"../data/raw/10S60W.tif\"\n",
    "\n",
    "# Loading maize data\n",
    "with rio.open(maize_data_path) as src:\n",
    "    maize_data = src.read()\n",
    "maize_data = np.squeeze(maize_data)\n",
    "\n",
    "# Loading deforestation data\n",
    "with rio.open(defor_img_path) as src:\n",
    "    defor_data = src.read()\n",
    "defor_data = np.squeeze(defor_data)"
   ]
  },
  {
   "cell_type": "code",
   "execution_count": 45,
   "metadata": {},
   "outputs": [
    {
     "data": {
      "text/plain": [
       "<matplotlib.image.AxesImage at 0x20b849810>"
      ]
     },
     "execution_count": 45,
     "metadata": {},
     "output_type": "execute_result"
    },
    {
     "data": {
      "image/png": "[encoded data removed]",
      "text/plain": [
       "<Figure size 432x288 with 1 Axes>"
      ]
     },
     "metadata": {
      "needs_background": "light"
     },
     "output_type": "display_data"
    }
   ],
   "source": [
    "plt.imshow(maize_data)"
   ]
  },
  {
   "cell_type": "code",
   "execution_count": 14,
   "metadata": {},
   "outputs": [
    {
     "data": {
      "text/plain": [
       "(2160, 4320)"
      ]
     },
     "execution_count": 14,
     "metadata": {},
     "output_type": "execute_result"
    }
   ],
   "source": [
    "maize_data.shape"
   ]
  },
  {
   "cell_type": "code",
   "execution_count": 16,
   "metadata": {},
   "outputs": [
    {
     "name": "stdout",
     "output_type": "stream",
     "text": [
      "[   0    1    2 ... 2157 2158 2159]\n",
      "[   0    1    2 ... 4317 4318 4319]\n"
     ]
    }
   ],
   "source": [
    "lat_index = np.arange(0, maize_data.shape[0])\n",
    "long_index = np.arange(0, maize_data.shape[1])\n",
    "print(lat_index)\n",
    "print(long_index)"
   ]
  },
  {
   "cell_type": "code",
   "execution_count": 19,
   "metadata": {},
   "outputs": [
    {
     "data": {
      "text/plain": [
       "(9331200,)"
      ]
     },
     "execution_count": 19,
     "metadata": {},
     "output_type": "execute_result"
    }
   ],
   "source": [
    "long_grid, lat_grid = np.meshgrid(long_index, lat_index)\n",
    "long_grid_flat = long_grid.flatten()\n",
    "long_grid_flat.shape"
   ]
  },
  {
   "cell_type": "code",
   "execution_count": 3,
   "metadata": {},
   "outputs": [],
   "source": [
    "long_grid, lat_grid = np.meshgrid(long_index, lat_index)\n",
    "lat_grid_flat = lat_grid.flatten()\n",
    "long_grid_flat = long_grid.flatten()"
   ]
  },
  {
   "cell_type": "code",
   "execution_count": 64,
   "metadata": {},
   "outputs": [
    {
     "data": {
      "text/plain": [
       "(9331200,)"
      ]
     },
     "execution_count": 64,
     "metadata": {},
     "output_type": "execute_result"
    }
   ],
   "source": [
    "lat_grid_flat.shape"
   ]
  },
  {
   "cell_type": "code",
   "execution_count": 66,
   "metadata": {},
   "outputs": [
    {
     "data": {
      "text/plain": [
       "(9331200,)"
      ]
     },
     "execution_count": 66,
     "metadata": {},
     "output_type": "execute_result"
    }
   ],
   "source": [
    "long_grid_flat.shape"
   ]
  },
  {
   "cell_type": "code",
   "execution_count": 68,
   "metadata": {},
   "outputs": [
    {
     "data": {
      "text/plain": [
       "array([[   0,    0,    0, ...,    0,    0,    0],\n",
       "       [   1,    1,    1, ...,    1,    1,    1],\n",
       "       [   2,    2,    2, ...,    2,    2,    2],\n",
       "       ...,\n",
       "       [2157, 2157, 2157, ..., 2157, 2157, 2157],\n",
       "       [2158, 2158, 2158, ..., 2158, 2158, 2158],\n",
       "       [2159, 2159, 2159, ..., 2159, 2159, 2159]])"
      ]
     },
     "execution_count": 68,
     "metadata": {},
     "output_type": "execute_result"
    }
   ],
   "source": [
    "lat_grid"
   ]
  },
  {
   "cell_type": "code",
   "execution_count": 69,
   "metadata": {},
   "outputs": [
    {
     "data": {
      "text/plain": [
       "array([[   0,    1,    2, ..., 4317, 4318, 4319],\n",
       "       [   0,    1,    2, ..., 4317, 4318, 4319],\n",
       "       [   0,    1,    2, ..., 4317, 4318, 4319],\n",
       "       ...,\n",
       "       [   0,    1,    2, ..., 4317, 4318, 4319],\n",
       "       [   0,    1,    2, ..., 4317, 4318, 4319],\n",
       "       [   0,    1,    2, ..., 4317, 4318, 4319]])"
      ]
     },
     "execution_count": 69,
     "metadata": {},
     "output_type": "execute_result"
    }
   ],
   "source": [
    "long_grid"
   ]
  },
  {
   "cell_type": "code",
   "execution_count": 21,
   "metadata": {},
   "outputs": [],
   "source": [
    "A = src.transform\n",
    "long, lat = rio.transform.xy(A, lat_grid_flat, long_grid_flat)"
   ]
  },
  {
   "cell_type": "code",
   "execution_count": 47,
   "metadata": {},
   "outputs": [
    {
     "data": {
      "text/plain": [
       "Affine(0.00025, 0.0, -60.0,\n",
       "       0.0, -0.00025, -10.0)"
      ]
     },
     "execution_count": 47,
     "metadata": {},
     "output_type": "execute_result"
    }
   ],
   "source": [
    "lat_1 = np.array(lat).reshape(maize_data.shape)\n",
    "long_1 = np.array(long).reshape(maize_data.shape)\n",
    "print((lat.min(), lat.max()))\n",
    "print((long.min(), long.max()))"
   ]
  },
  {
   "cell_type": "markdown",
   "metadata": {},
   "source": [
    "## Defining Data Segmentation Functions"
   ]
  },
  {
   "cell_type": "code",
   "execution_count": 60,
   "metadata": {},
   "outputs": [],
   "source": [
    "def get_lat_long(data):\n",
    "    # index array\n",
    "    lat_index = np.arange(0, data.shape[0])\n",
    "    long_index = np.arange(0, data.shape[1])\n",
    "    \n",
    "    # meshgrid\n",
    "    long_grid, lat_grid = np.meshgrid(long_index, lat_index)\n",
    "    \n",
    "    # flattened grids\n",
    "    lat_grid_flat = lat_grid.flatten()\n",
    "    long_grid_flat = long_grid.flatten()\n",
    "    \n",
    "    # getting long and lat\n",
    "    A = src.transform\n",
    "    long, lat = rio.transform.xy(A, lat_grid_flat, long_grid_flat)\n",
    "    \n",
    "    # reshaping to shape of original data\n",
    "    lat = np.array(lat).reshape(data.shape)\n",
    "    long = np.array(long).reshape(data.shape)\n",
    "    \n",
    "    return lat, long\n",
    "\n",
    "def segment_coords(data, lat, long, target_coords = (0, 0), length = 10):\n",
    "    # latitude/longitude variables\n",
    "    lat_max = target_coords[0]\n",
    "    lat_min = lat_max - length\n",
    "    long_min = target_coords[1]\n",
    "    long_max = long_min + length\n",
    "    \n",
    "    # length variables\n",
    "    xlen = data.shape[1]\n",
    "    ylen = data.shape[0]\n",
    "    \n",
    "    # find xmin and xmax\n",
    "    xmin, xmax = None, None\n",
    "    for x in range(xlen):\n",
    "        if long[0, x] > long_min:\n",
    "            xmin = x if xmin == None else xmin\n",
    "        if long[0, xlen - x - 1] < long_max:\n",
    "            xmax = xlen - x - 1 if xmax == None else xmax\n",
    "            \n",
    "    # find ymin and ymax\n",
    "    ymin, ymax = None, None\n",
    "    for y in range(ylen):\n",
    "        if lat[ylen - y - 1, 0] > lat_min:\n",
    "            ymin = ylen - y - 1 if ymin == None else ymin\n",
    "        if lat[y, 0] < lat_max:\n",
    "            ymax = y if ymax == None else ymax\n",
    "            \n",
    "    # index data from top-bottom, left-right\n",
    "    return data[ymax:ymin, xmin:xmax]"
   ]
  },
  {
   "cell_type": "markdown",
   "metadata": {},
   "source": [
    "## Segmenting Maize Data"
   ]
  },
  {
   "cell_type": "code",
   "execution_count": 61,
   "metadata": {
    "scrolled": true
   },
   "outputs": [
    {
     "name": "stdout",
     "output_type": "stream",
     "text": [
      "(-10.539875, -10.000125)\n",
      "(-59.999875, -58.920125000000006)\n"
     ]
    },
    {
     "data": {
      "text/plain": [
       "<matplotlib.image.AxesImage at 0x1bbea6950>"
      ]
     },
     "execution_count": 61,
     "metadata": {},
     "output_type": "execute_result"
    },
    {
     "data": {
      "image/png": "[encoded data removed]",
      "text/plain": [
       "<Figure size 432x288 with 1 Axes>"
      ]
     },
     "metadata": {
      "needs_background": "light"
     },
     "output_type": "display_data"
    }
   ],
   "source": [
    "# Segmenting Maize Data 10S60W\n",
    "target_coords = (-10, -60)\n",
    "lat, long = get_lat_long(maize_data)\n",
    "\n",
    "maize_data_seg = segment_coords(maize_data, lat, long, target_coords, length = 10) \n",
    "plt.imshow(maize_data_seg)"
   ]
  },
  {
   "cell_type": "markdown",
   "metadata": {},
   "source": [
    "## Defining Spatial Resolution Functions"
   ]
  },
  {
   "cell_type": "code",
   "execution_count": 27,
   "metadata": {},
   "outputs": [],
   "source": [
    "def get_dist(coords_1, coords_2):\n",
    "    return geopy.distance.distance(coords_1, coords_2).km\n",
    "\n",
    "def get_spatial_res(dist, arr):\n",
    "    return (dist / arr.shape[0])"
   ]
  },
  {
   "cell_type": "markdown",
   "metadata": {},
   "source": [
    "## Compute Spatial Resolution"
   ]
  },
  {
   "cell_type": "code",
   "execution_count": 28,
   "metadata": {
    "scrolled": true
   },
   "outputs": [
    {
     "name": "stdout",
     "output_type": "stream",
     "text": [
      "Defor Spatial Resolution: 0.027408788864225136km\n"
     ]
    },
    {
     "ename": "NameError",
     "evalue": "name 'maize_data_seg' is not defined",
     "output_type": "error",
     "traceback": [
      "\u001b[0;31m---------------------------------------------------------------------------\u001b[0m",
      "\u001b[0;31mNameError\u001b[0m                                 Traceback (most recent call last)",
      "\u001b[0;32m<ipython-input-28-3503cee2bd1b>\u001b[0m in \u001b[0;36m<module>\u001b[0;34m\u001b[0m\n\u001b[1;32m      4\u001b[0m \u001b[0mprint\u001b[0m\u001b[0;34m(\u001b[0m\u001b[0;34m\"Defor Spatial Resolution: {}km\"\u001b[0m\u001b[0;34m.\u001b[0m\u001b[0mformat\u001b[0m\u001b[0;34m(\u001b[0m\u001b[0mdefor_spatial_res\u001b[0m\u001b[0;34m)\u001b[0m\u001b[0;34m)\u001b[0m\u001b[0;34m\u001b[0m\u001b[0;34m\u001b[0m\u001b[0m\n\u001b[1;32m      5\u001b[0m \u001b[0;34m\u001b[0m\u001b[0m\n\u001b[0;32m----> 6\u001b[0;31m \u001b[0mmaize_spatial_res\u001b[0m \u001b[0;34m=\u001b[0m \u001b[0mget_spatial_res\u001b[0m\u001b[0;34m(\u001b[0m\u001b[0mdist\u001b[0m\u001b[0;34m,\u001b[0m \u001b[0mmaize_data_seg\u001b[0m\u001b[0;34m)\u001b[0m\u001b[0;34m\u001b[0m\u001b[0;34m\u001b[0m\u001b[0m\n\u001b[0m\u001b[1;32m      7\u001b[0m \u001b[0mprint\u001b[0m\u001b[0;34m(\u001b[0m\u001b[0;34m\"Maize Spatial Resolution: {}km\"\u001b[0m\u001b[0;34m.\u001b[0m\u001b[0mformat\u001b[0m\u001b[0;34m(\u001b[0m\u001b[0mmaize_spatial_res\u001b[0m\u001b[0;34m)\u001b[0m\u001b[0;34m)\u001b[0m\u001b[0;34m\u001b[0m\u001b[0;34m\u001b[0m\u001b[0m\n",
      "\u001b[0;31mNameError\u001b[0m: name 'maize_data_seg' is not defined"
     ]
    }
   ],
   "source": [
    "dist = get_dist((-10, -60), (-10, -50))\n",
    "\n",
    "defor_spatial_res = get_spatial_res(dist, defor_data)\n",
    "print(\"Defor Spatial Resolution: {}km\".format(defor_spatial_res))\n",
    "\n",
    "maize_spatial_res = get_spatial_res(dist, maize_data_seg)\n",
    "print(\"Maize Spatial Resolution: {}km\".format(maize_spatial_res))"
   ]
  },
  {
   "cell_type": "code",
   "execution_count": 29,
   "metadata": {},
   "outputs": [
    {
     "name": "stdout",
     "output_type": "stream",
     "text": [
      "Top Border Distance: 1096.3515545690054 km\n",
      "Right Border Distance: 1106.511420937261 km\n",
      "Bot Border Distance: 1046.3150761044421 km\n",
      "Left Border Distance: 1106.511420937261 km\n"
     ]
    }
   ],
   "source": [
    "# 10 South, 60 West\n",
    "print(\"Top Border Distance: {} km\".format(get_dist((-10, -60), (-10, -50))))\n",
    "print(\"Right Border Distance: {} km\".format(get_dist((-10, -50), (-20, -50))))\n",
    "print(\"Bot Border Distance: {} km\".format(get_dist((-20, -60), (-20, -50))))\n",
    "print(\"Left Border Distance: {} km\".format(get_dist((-20, -60), (-10, -60))))"
   ]
  },
  {
   "cell_type": "markdown",
   "metadata": {},
   "source": [
    "## Computing 3km Grid"
   ]
  },
  {
   "cell_type": "code",
   "execution_count": 60,
   "metadata": {},
   "outputs": [],
   "source": [
    "'''\n",
    "Generates a grid where each cell represents the sum of a arr_spatial_res by cell_num_meter chunk of data.\n",
    "Returns a tuple of sum grid, arr_spatial_res.\n",
    "'''\n",
    "def data_to_grid(arr, arr_spatial_res, grid_spatial_res = 3):\n",
    "    # Initialize grid\n",
    "    GRID_SIZE = math.ceil((arr.shape[0] * arr_spatial_res) / grid_spatial_res) + 1\n",
    "    grid = np.zeros((GRID_SIZE, GRID_SIZE))\n",
    "    print((arr.shape[0] * arr_spatial_res))\n",
    "    print(GRID_SIZE)\n",
    "    # Generate grid\n",
    "    for y in range(0, arr.shape[0]):\n",
    "        for x in range(0, arr.shape[1]):\n",
    "            # getting distance (in km) of top left corner of pixel from top left corner of entire data\n",
    "            y_dist = y * arr_spatial_res\n",
    "            x_dist = x * arr_spatial_res\n",
    "            \n",
    "            # getting indexes of grid\n",
    "            grid_y = math.floor(y_dist / grid_spatial_res)\n",
    "            grid_x = math.floor(x_dist / grid_spatial_res)\n",
    "            \n",
    "            # getting indexes of grid\n",
    "            grid_y_dist = y // grid_spatial_res\n",
    "            grid_x_dist = x // grid_spatial_res\n",
    "            \n",
    "            if arr_spatial_res > grid_spatial_res:\n",
    "                pass\n",
    "            else:\n",
    "                # compute height and width (in km) inside of grid\n",
    "                height_in = grid_y_dist + grid_spatial_res - y_dist + arr_spatial_res\n",
    "                width_in = grid_x_dist + grid_spatial_res - x_dist + arr_spatial_res\n",
    "                \n",
    "                # compute height and width (in km) outside of grid\n",
    "                height_out = arr_spatial_res - height_in\n",
    "                width_out = arr_spatial_res - width_in\n",
    "                \n",
    "                # update grid values\n",
    "                grid[grid_y, grid_x] += width_in * height_in * arr[y, x]\n",
    "                grid[grid_y + 1, grid_x] += width_in * height_out * arr[y, x]\n",
    "                grid[grid_y, grid_x + 1] += width_out * height_in * arr[y, x]\n",
    "                grid[grid_y + 1, grid_x + 1] += width_out * height_out * arr[y, x]\n",
    "    print(grid)\n",
    "    return grid"
   ]
  },
  {
   "cell_type": "code",
   "execution_count": 63,
   "metadata": {},
   "outputs": [
    {
     "name": "stdout",
     "output_type": "stream",
     "text": [
      "1096.3515545690054\n",
      "367\n",
      "0\n",
      "1\n",
      "2\n",
      "3\n",
      "4\n",
      "5\n",
      "6\n",
      "7\n",
      "8\n",
      "9\n",
      "10\n",
      "11\n",
      "12\n",
      "13\n"
     ]
    },
    {
     "ename": "KeyboardInterrupt",
     "evalue": "",
     "output_type": "error",
     "traceback": [
      "\u001b[0;31m---------------------------------------------------------------------------\u001b[0m",
      "\u001b[0;31mKeyboardInterrupt\u001b[0m                         Traceback (most recent call last)",
      "\u001b[0;32m<ipython-input-63-7a0f27ebedc9>\u001b[0m in \u001b[0;36m<module>\u001b[0;34m\u001b[0m\n\u001b[0;32m----> 1\u001b[0;31m \u001b[0mdata_to_grid\u001b[0m\u001b[0;34m(\u001b[0m\u001b[0mdefor_data\u001b[0m\u001b[0;34m,\u001b[0m \u001b[0mdefor_spatial_res\u001b[0m\u001b[0;34m)\u001b[0m\u001b[0;34m\u001b[0m\u001b[0;34m\u001b[0m\u001b[0m\n\u001b[0m",
      "\u001b[0;32m<ipython-input-60-8c2a3effb7b4>\u001b[0m in \u001b[0;36mdata_to_grid\u001b[0;34m(arr, arr_spatial_res, grid_spatial_res)\u001b[0m\n\u001b[1;32m     33\u001b[0m \u001b[0;34m\u001b[0m\u001b[0m\n\u001b[1;32m     34\u001b[0m                 \u001b[0;31m# compute height and width (in km) outside of grid\u001b[0m\u001b[0;34m\u001b[0m\u001b[0;34m\u001b[0m\u001b[0;34m\u001b[0m\u001b[0m\n\u001b[0;32m---> 35\u001b[0;31m                 \u001b[0mheight_out\u001b[0m \u001b[0;34m=\u001b[0m \u001b[0marr_spatial_res\u001b[0m \u001b[0;34m-\u001b[0m \u001b[0mheight_in\u001b[0m\u001b[0;34m\u001b[0m\u001b[0;34m\u001b[0m\u001b[0m\n\u001b[0m\u001b[1;32m     36\u001b[0m                 \u001b[0mwidth_out\u001b[0m \u001b[0;34m=\u001b[0m \u001b[0marr_spatial_res\u001b[0m \u001b[0;34m-\u001b[0m \u001b[0mwidth_in\u001b[0m\u001b[0;34m\u001b[0m\u001b[0;34m\u001b[0m\u001b[0m\n\u001b[1;32m     37\u001b[0m \u001b[0;34m\u001b[0m\u001b[0m\n",
      "\u001b[0;31mKeyboardInterrupt\u001b[0m: "
     ]
    }
   ],
   "source": [
    "data_to_grid(defor_data, defor_spatial_res)"
   ]
  },
  {
   "cell_type": "code",
   "execution_count": null,
   "metadata": {},
   "outputs": [],
   "source": []
  }
 ],
 "metadata": {
  "kernelspec": {
   "display_name": "Python 3",
   "language": "python",
   "name": "python3"
  },
  "language_info": {
   "codemirror_mode": {
    "name": "ipython",
    "version": 3
   },
   "file_extension": ".py",
   "mimetype": "text/x-python",
   "name": "python",
   "nbconvert_exporter": "python",
   "pygments_lexer": "ipython3",
   "version": "3.7.4"
  }
 },
 "nbformat": 4,
 "nbformat_minor": 2
}
