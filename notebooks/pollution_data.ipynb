{
 "cells": [
  {
   "cell_type": "code",
   "execution_count": 112,
   "metadata": {},
   "outputs": [],
   "source": [
    "import h5py\n",
    "import numpy as np\n",
    "import pandas as pd\n",
    "import cv2"
   ]
  },
  {
   "cell_type": "code",
   "execution_count": 113,
   "metadata": {},
   "outputs": [],
   "source": [
    "import os\n",
    "import rasterio as rio \n",
    "from osgeo import gdal\n",
    "import matplotlib.pyplot as plt\n",
    "from PIL import Image"
   ]
  },
  {
   "cell_type": "code",
   "execution_count": null,
   "metadata": {
    "code_folding": [
     0
    ]
   },
   "outputs": [],
   "source": [
    "# reading in data directly from h5 file, indexing using numpy \n",
    "f = h5py.File('../data/raw/pollution_data.h5', 'r')\n",
    "list(f.keys())\n",
    "\n",
    "pollution_data = np.array(f.get(\"SCIENCE_DATA/UVAerosolIndex354and388\"))\n",
    "lat = np.array(f.get(\"GEOLOCATION_DATA/Latitude\"))\n",
    "long = np.array(f.get(\"GEOLOCATION_DATA/Longitude\"))\n",
    "\n",
    "pol_data = pollution_data.flatten()\n",
    "lat_idx = lat.flatten()\n",
    "long_idx = long.flatten()\n",
    "\n",
    "pol_data = pol_data[(lat_idx <= -10) & (lat_idx >= -20) & (long_idx <= -50) & (long_idx >= -60)]\n",
    "pol_data \n",
    "\n",
    "# interpolation using cv2 \n",
    "\n",
    "data = pol_data\n",
    "colname = \"pollution_data\"\n",
    "grid_size = 500\n",
    "\n",
    "grid = cv2.resize(data, dsize=(grid_size, grid_size), interpolation = cv2.INTER_AREA)\n",
    "\n",
    "# create dataframe \n",
    "row = np.arange(grid_size ** 2) // grid_size\n",
    "col = np.arange(grid_size ** 2) % grid_size\n",
    "\n",
    "h5_df = pd.DataFrame(index = row * grid_size + col)\n",
    "h5_df[\"row\"] = row\n",
    "h5_df[\"col\"] = col\n",
    "\n",
    "h5_df[colname] = grid.flatten()\n",
    "#h5_df.to_csv(\"../data/processed/pollution_h5.csv\", index_label = \"id\")\n",
    "\n",
    "# reading in data from csv files downloaded from panoply, indexing as pandas dataframe \n",
    "\n",
    "p = pd.read_csv(\"../data/raw/UVAerosolIndex354and388.csv\", header = None)\n",
    "lat = pd.read_csv(\"../data/raw/Latitude.csv\", header = None)\n",
    "long = pd.read_csv(\"../data/raw/Longitude.csv\", header = None)\n",
    "\n",
    "row = np.tile(np.arange(0, 1643), 60)\n",
    "col = np.repeat(np.arange(0, 60), 1643)\n",
    "\n",
    "pol_df = pd.DataFrame(index = np.arange(0, 98580))\n",
    "pol_df[\"row\"] = row\n",
    "pol_df[\"col\"] = col\n",
    "\n",
    "pol_df[\"lat\"] = np.array(lat).flatten()\n",
    "pol_df[\"long\"] = np.array(long).flatten()\n",
    "pol_df[\"pollution\"] = np.array(p).flatten()\n",
    "\n",
    "# interpolation using cv2 \n",
    "data = np.array(pol_df[\"pollution\"])\n",
    "colname = \"pollution_data\"\n",
    "grid_size = 500\n",
    "\n",
    "grid = cv2.resize(data, dsize=(grid_size, grid_size), interpolation = cv2.INTER_AREA)\n",
    "\n",
    "# create dataframe \n",
    "row = np.arange(grid_size ** 2) // grid_size\n",
    "col = np.arange(grid_size ** 2) % grid_size\n",
    "\n",
    "pd_df = pd.DataFrame(index = row * grid_size + col)\n",
    "pd_df[\"row\"] = row\n",
    "pd_df[\"col\"] = col\n",
    "\n",
    "pd_df[colname] = grid.flatten()\n",
    "#pol_df.to_csv(\"../data/processed/pollution_pd.csv\", index_label = \"id\")\n",
    "\n",
    "# pd_df[\"pollution_data\"].describe()\n",
    "# h5_df[\"pollution_data\"].describe()"
   ]
  },
  {
   "cell_type": "code",
   "execution_count": 3,
   "metadata": {
    "code_folding": [
     0
    ]
   },
   "outputs": [],
   "source": [
    "# gdal_translate -a_srs '+proj=longlat +datum=WGS84 +no_defs' -a_ullr 89.885323 180 -89.728508 180 \n",
    "# HDF5:\"OMI-Aura_L2-OMIAuraAER_2005m0922t160611-o06326_v01-00-2018m0910t134218.h5\"://SCIENCE_DATA/UVAerosolIndex354and388 uvai.tif\n",
    "\n",
    "# f = h5py.File(\"../data/raw/UVAI_data_2005/OMI-Aura_L2-OMIAuraAER_2005m0922t160611-o06326_v01-00-2018m0910t134218.h5\", 'r')\n",
    "# gdal.Translate(\"test.tif\", \"OMI-Aura_L2-OMIAuraAER_2005m0922t160611-o06326_v01-00-2018m0910t134218.h5\"://SCIENCE_DATA/UVAerosolIndex354and388, outputSRS = '+proj=longlat +datum=WGS84 +no_defs', outputBounds = [89.885323, 180, -89.728508, 180])"
   ]
  },
  {
   "cell_type": "code",
   "execution_count": null,
   "metadata": {
    "code_folding": [
     0
    ]
   },
   "outputs": [],
   "source": [
    "# shitty code that i don't care about\n",
    "# sum arrays\n",
    "na_val = -1.2676506e+30\n",
    "na_count = np.full((1643, 60), len(uvai))\n",
    "\n",
    "uv_43 = np.zeros((1643, 60))\n",
    "troublemakers = []\n",
    "\n",
    "# sum arrays w/shape 1644/1643\n",
    "for arr in uvai:\n",
    "    if arr.shape == (1644, 60):\n",
    "        arr = arr[0:1643]\n",
    "      \n",
    "    na_idx = np.where(arr == na_val)\n",
    "    na_count[na_idx] -= 1\n",
    "    arr[na_idx] = 0\n",
    "   \n",
    "    if arr.shape == (1643, 60):\n",
    "        uv_43 = np.add(uv_43, arr)\n",
    "    else:\n",
    "        troublemakers.append(arr)\n",
    "\n",
    "# sum arrays with varying shapes \n",
    "tr_sum = np.zeros((1643, 60))\n",
    "for arr in troublemakers:\n",
    "    new = np.zeros((1643, 60))\n",
    "    for i in range(len(new)):\n",
    "        if i < len(arr):\n",
    "            new[i] = arr[i]\n",
    "        else:\n",
    "            new[i] = np.repeat(0, 60)\n",
    "            na_count[i] -= 1\n",
    "        tr_sum = np.add(new, tr_sum)\n",
    "    \n",
    "# sum all arrays together\n",
    "\n",
    "uvai_2005 = np.add(uv_43, tr_sum)\n",
    "\n",
    "# take mean and set NA values \n",
    "real_idx = np.where(uvai_2005 != 0)\n",
    "uvai_2005[real_idx] = uvai_2005[real_idx]/na_count[real_idx]\n",
    "uvai_2005[np.where(uvai_2005 == 0)] = na_val\n",
    "uvai_2005.shape"
   ]
  },
  {
   "cell_type": "code",
   "execution_count": 185,
   "metadata": {},
   "outputs": [],
   "source": [
    "path = \"../data/raw/UVAI_data_2005/OMI-Aura_L2-OMIAuraAER_2005m0101t164929-o02482_v01-00-2018m0910t100043.h5\"\n",
    "f = h5py.File(path, 'r')\n",
    "\n",
    "lat_2d = np.array(f.get(\"GEOLOCATION_DATA/Latitude\"))\n",
    "long_2d = np.array(f.get(\"GEOLOCATION_DATA/Longitude\"))\n",
    "\n",
    "uvai = []\n",
    "with os.scandir(\"../data/raw/UVAI_data_2005\") as entries:\n",
    "    for entry in entries:\n",
    "        if entry.is_file() and entry.name.endswith(\"tif\"):\n",
    "            with rio.open(entry.path) as src:\n",
    "                data = src.read()\n",
    "                data = np.squeeze(data).astype(\"float32\")\n",
    "                uvai.append(data.flatten())\n"
   ]
  },
  {
   "cell_type": "code",
   "execution_count": 199,
   "metadata": {
    "code_folding": []
   },
   "outputs": [
    {
     "name": "stdout",
     "output_type": "stream",
     "text": [
      "[-1.2676506e+30 -1.2676506e+30 -1.2676506e+30 ... -1.2676506e+30\n",
      " -1.2676506e+30 -1.2676506e+30]\n"
     ]
    }
   ],
   "source": [
    "# sum arrays\n",
    "na_val = -1.2676506e+30\n",
    "n = len(uvai[0])\n",
    "na_count = np.full((n,), len(uvai))\n",
    "\n",
    "uv = np.zeros((n,))\n",
    "\n",
    "for data in uvai:\n",
    "    if len(data) != n:\n",
    "        diff = n - len(data)\n",
    "        data = np.concatenate([data, np.repeat(na_val, diff)])\n",
    "        na_idx = np.where(data == na_val)[0]\n",
    "        na_count[na_idx] -= 1\n",
    "        data[na_idx] = 0\n",
    "        \n",
    "    uv = np.add(uv, data)\n",
    "\n",
    "real_idx = np.where(uv != 0)[0]\n",
    "\n",
    "uv[real_idx] = uv[real_idx]/na_count[real_idx]\n",
    "uv[np.where(uv == 0)[0]] = na_val"
   ]
  },
  {
   "cell_type": "code",
   "execution_count": 208,
   "metadata": {},
   "outputs": [
    {
     "data": {
      "text/plain": [
       "False"
      ]
     },
     "execution_count": 208,
     "metadata": {},
     "output_type": "execute_result"
    }
   ],
   "source": []
  },
  {
   "cell_type": "code",
   "execution_count": 202,
   "metadata": {},
   "outputs": [],
   "source": [
    "LAT_MAX, LONG_MIN = (-10, -60)\n",
    "LAT_MIN, LONG_MAX = (-20, -50)"
   ]
  },
  {
   "cell_type": "code",
   "execution_count": 143,
   "metadata": {},
   "outputs": [
    {
     "data": {
      "text/plain": [
       "[<matplotlib.lines.Line2D at 0x144be8250>]"
      ]
     },
     "execution_count": 143,
     "metadata": {},
     "output_type": "execute_result"
    },
    {
     "data": {
      "image/png": "[encoded data removed]",
      "text/plain": [
       "<Figure size 432x288 with 1 Axes>"
      ]
     },
     "metadata": {
      "needs_background": "light"
     },
     "output_type": "display_data"
    }
   ],
   "source": [
    "uv = uvai_2005.flatten()\n",
    "lat = lat_2d.flatten()\n",
    "long = long_2d.flatten()\n",
    "\n",
    "#print(uv)\n",
    "idx = np.where((lat >= LAT_MIN) & (lat <= LAT_MAX) & (long <= LONG_MAX) & (long >= LONG_MIN))[0]\n",
    "\n",
    "lat = lat[idx]\n",
    "long = long[idx]\n",
    "\n",
    "#plt.plot(long)\n",
    "plt.plot(long)\n",
    "\n",
    "#plt.scatter(lat, long)"
   ]
  },
  {
   "cell_type": "code",
   "execution_count": 146,
   "metadata": {},
   "outputs": [
    {
     "name": "stdout",
     "output_type": "stream",
     "text": [
      "-109.05576240253009 228.2711404401947 9.194387430500651 12.813864399409274 18.013110542360238\n"
     ]
    },
    {
     "data": {
      "text/html": [
       "<div>\n",
       "<style scoped>\n",
       "    .dataframe tbody tr th:only-of-type {\n",
       "        vertical-align: middle;\n",
       "    }\n",
       "\n",
       "    .dataframe tbody tr th {\n",
       "        vertical-align: top;\n",
       "    }\n",
       "\n",
       "    .dataframe thead th {\n",
       "        text-align: right;\n",
       "    }\n",
       "</style>\n",
       "<table border=\"1\" class=\"dataframe\">\n",
       "  <thead>\n",
       "    <tr style=\"text-align: right;\">\n",
       "      <th></th>\n",
       "      <th>lat</th>\n",
       "      <th>long</th>\n",
       "      <th>uv</th>\n",
       "    </tr>\n",
       "  </thead>\n",
       "  <tbody>\n",
       "    <tr>\n",
       "      <td>0</td>\n",
       "      <td>-19.957968</td>\n",
       "      <td>-50.268730</td>\n",
       "      <td>14.553036</td>\n",
       "    </tr>\n",
       "    <tr>\n",
       "      <td>1</td>\n",
       "      <td>-19.996403</td>\n",
       "      <td>-51.928429</td>\n",
       "      <td>13.291637</td>\n",
       "    </tr>\n",
       "    <tr>\n",
       "      <td>2</td>\n",
       "      <td>-19.960110</td>\n",
       "      <td>-51.562523</td>\n",
       "      <td>9.232484</td>\n",
       "    </tr>\n",
       "    <tr>\n",
       "      <td>3</td>\n",
       "      <td>-19.922138</td>\n",
       "      <td>-51.172310</td>\n",
       "      <td>10.270955</td>\n",
       "    </tr>\n",
       "    <tr>\n",
       "      <td>4</td>\n",
       "      <td>-19.881969</td>\n",
       "      <td>-50.753712</td>\n",
       "      <td>13.042572</td>\n",
       "    </tr>\n",
       "    <tr>\n",
       "      <td>...</td>\n",
       "      <td>...</td>\n",
       "      <td>...</td>\n",
       "      <td>...</td>\n",
       "    </tr>\n",
       "    <tr>\n",
       "      <td>2798</td>\n",
       "      <td>-10.047875</td>\n",
       "      <td>-58.755051</td>\n",
       "      <td>-1.462653</td>\n",
       "    </tr>\n",
       "    <tr>\n",
       "      <td>2799</td>\n",
       "      <td>-10.016959</td>\n",
       "      <td>-58.541637</td>\n",
       "      <td>1.561423</td>\n",
       "    </tr>\n",
       "    <tr>\n",
       "      <td>2800</td>\n",
       "      <td>-10.091998</td>\n",
       "      <td>-59.855450</td>\n",
       "      <td>-6.387678</td>\n",
       "    </tr>\n",
       "    <tr>\n",
       "      <td>2801</td>\n",
       "      <td>-10.057291</td>\n",
       "      <td>-59.637646</td>\n",
       "      <td>-3.755314</td>\n",
       "    </tr>\n",
       "    <tr>\n",
       "      <td>2802</td>\n",
       "      <td>-10.023555</td>\n",
       "      <td>-59.421921</td>\n",
       "      <td>-8.037053</td>\n",
       "    </tr>\n",
       "  </tbody>\n",
       "</table>\n",
       "<p>2803 rows × 3 columns</p>\n",
       "</div>"
      ],
      "text/plain": [
       "            lat       long         uv\n",
       "0    -19.957968 -50.268730  14.553036\n",
       "1    -19.996403 -51.928429  13.291637\n",
       "2    -19.960110 -51.562523   9.232484\n",
       "3    -19.922138 -51.172310  10.270955\n",
       "4    -19.881969 -50.753712  13.042572\n",
       "...         ...        ...        ...\n",
       "2798 -10.047875 -58.755051  -1.462653\n",
       "2799 -10.016959 -58.541637   1.561423\n",
       "2800 -10.091998 -59.855450  -6.387678\n",
       "2801 -10.057291 -59.637646  -3.755314\n",
       "2802 -10.023555 -59.421921  -8.037053\n",
       "\n",
       "[2803 rows x 3 columns]"
      ]
     },
     "execution_count": 146,
     "metadata": {},
     "output_type": "execute_result"
    }
   ],
   "source": [
    "# make into 1d-arrays \n",
    "uv = uvai_2005.flatten()\n",
    "lat = lat_2d.flatten()\n",
    "long = long_2d.flatten()\n",
    "\n",
    "print(min(uv[uv != na_val]), max(uv), \n",
    "      np.median(uv[uv != na_val]), \n",
    "      np.mean(uv[uv != na_val]), \n",
    "      np.std(uv[uv != na_val]))\n",
    "\n",
    "# filter values by given area \n",
    "idx = np.where((lat >= LAT_MIN) & (lat <= LAT_MAX) & (long <= LONG_MAX) & (long >= LONG_MIN))[0]\n",
    "\n",
    "lat = lat[idx]\n",
    "long = long[idx]\n",
    "uv = uv[idx]\n",
    "\n",
    "dataset = pd.DataFrame({'lat': lat, 'long': long, 'uv': uv})\n",
    "dataset"
   ]
  },
  {
   "cell_type": "code",
   "execution_count": 138,
   "metadata": {},
   "outputs": [
    {
     "name": "stdout",
     "output_type": "stream",
     "text": [
      "-109.05576240253009 228.2711404401947 9.194387430500651 12.813864399409274 18.013110542360238\n",
      "[14.55303572 13.29163741  9.23248418] [-6.38767803 -3.75531441 -8.03705299]\n"
     ]
    }
   ],
   "source": [
    "print(uv[0:3], uv[2800:2803])\n",
    "# arrays are of length 2803, make arrays fit to length 2809 to make grids \n",
    "latx = np.linspace(LAT_MAX, LAT_MIN, 53).flatten()\n",
    "longy = np.linspace(LONG_MAX, LONG_MIN, 53).flatten()\n",
    "\n",
    "na_lat = np.random.choice(latx, 6)\n",
    "na_long = np.random.choice(longy, 6)\n",
    "\n",
    "lat = np.concatenate([lat, na_lat])\n",
    "long = np.concatenate([long, na_long])\n",
    "uv = np.concatenate([np.repeat(na_val, 3), uv, np.repeat(na_val, 3)])\n",
    "\n",
    "# options to f\n",
    "# for x in na_lat[0:3]:\n",
    "#     val = uv[np.where(lat == x)] \n",
    "#     uv = np.append(uv, val)\n",
    "#     uv[np.where(lat == x)] = na_val\n",
    "\n",
    "# for y in na_long[0:3]:\n",
    "#     val = uv[np.where(long == y)] \n",
    "#     uv = np.append(uv, val)\n",
    "#     uv[np.where(long == y)] = na_val"
   ]
  },
  {
   "cell_type": "code",
   "execution_count": 120,
   "metadata": {},
   "outputs": [],
   "source": [
    "# seg_img = Image.fromarray(uv)\n",
    "# path = \"../data/UVAI_05_10S60W.tif\" \n",
    "# seg_img.save(path)"
   ]
  },
  {
   "cell_type": "code",
   "execution_count": 121,
   "metadata": {},
   "outputs": [],
   "source": [
    "def grid_data(data, colname, grid_size, smaller):\n",
    "        \n",
    "    if smaller:\n",
    "        grid = cv2.resize(data, dsize=(grid_size, grid_size), interpolation = cv2.INTER_LINEAR)\n",
    "    else:\n",
    "        grid = cv2.resize(data, dsize=(grid_size, grid_size), interpolation = cv2.INTER_AREA)\n",
    "\n",
    "    row = np.arange(grid_size ** 2) // grid_size\n",
    "    col = np.arange(grid_size ** 2) % grid_size\n",
    "    \n",
    "    df = pd.DataFrame(index = row * grid_size + col)\n",
    "    df[\"row\"] = row\n",
    "    df[\"col\"] = col\n",
    "    \n",
    "    df[colname] = grid.flatten()\n",
    "    \n",
    "    return df"
   ]
  },
  {
   "cell_type": "code",
   "execution_count": 122,
   "metadata": {},
   "outputs": [],
   "source": [
    "uv_grid = np.reshape(uv, (53, 53))\n",
    "uv_df = grid_data(uv_grid, \"UVAI_05\", grid_size=500, smaller=False)"
   ]
  },
  {
   "cell_type": "code",
   "execution_count": 131,
   "metadata": {},
   "outputs": [
    {
     "data": {
      "text/html": [
       "<div>\n",
       "<style scoped>\n",
       "    .dataframe tbody tr th:only-of-type {\n",
       "        vertical-align: middle;\n",
       "    }\n",
       "\n",
       "    .dataframe tbody tr th {\n",
       "        vertical-align: top;\n",
       "    }\n",
       "\n",
       "    .dataframe thead th {\n",
       "        text-align: right;\n",
       "    }\n",
       "</style>\n",
       "<table border=\"1\" class=\"dataframe\">\n",
       "  <thead>\n",
       "    <tr style=\"text-align: right;\">\n",
       "      <th></th>\n",
       "      <th>row</th>\n",
       "      <th>col</th>\n",
       "      <th>UVAI_05</th>\n",
       "    </tr>\n",
       "  </thead>\n",
       "  <tbody>\n",
       "    <tr>\n",
       "      <td>count</td>\n",
       "      <td>250000.000000</td>\n",
       "      <td>250000.000000</td>\n",
       "      <td>2.500000e+05</td>\n",
       "    </tr>\n",
       "    <tr>\n",
       "      <td>mean</td>\n",
       "      <td>249.500000</td>\n",
       "      <td>249.500000</td>\n",
       "      <td>-2.707691e+27</td>\n",
       "    </tr>\n",
       "    <tr>\n",
       "      <td>std</td>\n",
       "      <td>144.337567</td>\n",
       "      <td>144.337567</td>\n",
       "      <td>5.763321e+28</td>\n",
       "    </tr>\n",
       "    <tr>\n",
       "      <td>min</td>\n",
       "      <td>0.000000</td>\n",
       "      <td>0.000000</td>\n",
       "      <td>-1.267651e+30</td>\n",
       "    </tr>\n",
       "    <tr>\n",
       "      <td>25%</td>\n",
       "      <td>124.750000</td>\n",
       "      <td>124.750000</td>\n",
       "      <td>-1.971135e+00</td>\n",
       "    </tr>\n",
       "    <tr>\n",
       "      <td>50%</td>\n",
       "      <td>249.500000</td>\n",
       "      <td>249.500000</td>\n",
       "      <td>7.352476e+00</td>\n",
       "    </tr>\n",
       "    <tr>\n",
       "      <td>75%</td>\n",
       "      <td>374.250000</td>\n",
       "      <td>374.250000</td>\n",
       "      <td>1.230183e+01</td>\n",
       "    </tr>\n",
       "    <tr>\n",
       "      <td>max</td>\n",
       "      <td>499.000000</td>\n",
       "      <td>499.000000</td>\n",
       "      <td>2.630485e+01</td>\n",
       "    </tr>\n",
       "  </tbody>\n",
       "</table>\n",
       "</div>"
      ],
      "text/plain": [
       "                 row            col       UVAI_05\n",
       "count  250000.000000  250000.000000  2.500000e+05\n",
       "mean      249.500000     249.500000 -2.707691e+27\n",
       "std       144.337567     144.337567  5.763321e+28\n",
       "min         0.000000       0.000000 -1.267651e+30\n",
       "25%       124.750000     124.750000 -1.971135e+00\n",
       "50%       249.500000     249.500000  7.352476e+00\n",
       "75%       374.250000     374.250000  1.230183e+01\n",
       "max       499.000000     499.000000  2.630485e+01"
      ]
     },
     "execution_count": 131,
     "metadata": {},
     "output_type": "execute_result"
    }
   ],
   "source": [
    "uv_df\n",
    "uv_df.describe()"
   ]
  },
  {
   "cell_type": "code",
   "execution_count": null,
   "metadata": {
    "code_folding": [
     0
    ]
   },
   "outputs": [],
   "source": [
    "# gdal for conversion to raster ? \n",
    "# https://gdal.org/python/index.html\n",
    "# https://gis.stackexchange.com/questions/154669/editing-tiff-rasters-in-python\n",
    "# https://stackoverflow.com/questions/37648439/simplest-way-to-save-array-into-raster-file-in-python\n",
    "# https://gis.stackexchange.com/questions/325155/transforming-a-image-to-a-shape-defined-by-image-corners-in-earth-coordinates\n",
    "# https://gdal.org/tutorials/raster_api_tut.html#using-create\n",
    "# https://gis.stackexchange.com/questions/168877/how-to-set-the-geotransform-using-gdal-in-python\n",
    "\n",
    "path = '../data/raw/uvai_2005.tif'\n",
    "xsize = len(uvai_2005)\n",
    "ysize = len(uvai_2005[0])\n",
    "\n",
    "driver = gdal.GetDriverByName('GTiff')\n",
    "new_tiff = driver.Create(path,xsize,ysize,1,gdal.GDT_Float32)\n",
    "new_tiff.SetGeoTransform(geotransform)\n",
    "new_tiff.SetProjection(projection)\n",
    "new_tiff.GetRasterBand(1).WriteArray(array)\n",
    "new_tiff.FlushCache() #Saves to disk \n",
    "new_tiff = None #closes the file\n",
    "\n",
    "from osgeo import osr\n",
    "import numpy\n",
    "new_tiff.SetGeoTransform([444720, 30, 0, 3751320, 0, -30])\n",
    "srs = osr.SpatialReference()\n",
    "srs.SetUTM(11, 1)\n",
    "srs.SetWellKnownGeogCS(\"NAD27\")\n",
    "dst_ds.SetProjection(srs.ExportToWkt())\n",
    "raster = numpy.zeros((512, 512), dtype=numpy.uint8)\n",
    "dst_ds.GetRasterBand(1).WriteArray(raster)\n",
    "# Once we're done, close properly the dataset\n",
    "dst_ds = None"
   ]
  },
  {
   "cell_type": "code",
   "execution_count": null,
   "metadata": {
    "code_folding": [
     0
    ]
   },
   "outputs": [],
   "source": [
    "# lat and long values change for each dataset \n",
    "# keep track of actual values vs. na values to get accurate mean "
   ]
  }
 ],
 "metadata": {
  "kernelspec": {
   "display_name": "Python 3",
   "language": "python",
   "name": "python3"
  },
  "language_info": {
   "codemirror_mode": {
    "name": "ipython",
    "version": 3
   },
   "file_extension": ".py",
   "mimetype": "text/x-python",
   "name": "python",
   "nbconvert_exporter": "python",
   "pygments_lexer": "ipython3",
   "version": "3.7.4"
  }
 },
 "nbformat": 4,
 "nbformat_minor": 2
}
