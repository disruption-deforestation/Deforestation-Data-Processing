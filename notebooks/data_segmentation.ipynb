{
 "cells": [
  {
   "cell_type": "code",
   "execution_count": 20,
   "metadata": {},
   "outputs": [],
   "source": [
    "import rasterio as rio\n",
    "import numpy as np\n",
    "from PIL import Image"
   ]
  },
  {
   "cell_type": "code",
   "execution_count": 15,
   "metadata": {},
   "outputs": [],
   "source": [
    "\n",
    "# Loading soybean data\n",
    "soybean_data_path = \"../data/raw/yield_soybean.tif\"\n",
    "with rio.open(soybean_data_path) as soybean_src:\n",
    "    soybean_data = soybean_src.read()\n",
    "soybean_data = np.squeeze(soybean_data)"
   ]
  },
  {
   "cell_type": "code",
   "execution_count": null,
   "metadata": {},
   "outputs": [],
   "source": []
  },
  {
   "cell_type": "code",
   "execution_count": null,
   "metadata": {},
   "outputs": [],
   "source": []
  },
  {
   "cell_type": "code",
   "execution_count": 16,
   "metadata": {},
   "outputs": [],
   "source": [
    "def get_lat_long(data, src):\n",
    "    # index array\n",
    "    lat_index = np.arange(0, data.shape[0])\n",
    "    long_index = np.arange(0, data.shape[1])\n",
    "    \n",
    "    # meshgrid\n",
    "    long_grid, lat_grid = np.meshgrid(long_index, lat_index)\n",
    "    \n",
    "    # flattened grids\n",
    "    lat_grid_flat = lat_grid.flatten()\n",
    "    long_grid_flat = long_grid.flatten()\n",
    "    \n",
    "    # getting long and lat\n",
    "    A = src.transform\n",
    "    long, lat = rio.transform.xy(A, lat_grid_flat, long_grid_flat)\n",
    "    \n",
    "    # reshaping to shape of original data\n",
    "    lat = np.array(lat).reshape(data.shape)\n",
    "    long = np.array(long).reshape(data.shape)\n",
    "    \n",
    "    return lat, long\n",
    "\n",
    "def segment_coords(data, lat, long, target_coords = (0, 0), border = 0, length = 10):\n",
    "    # latitude/longitude variables\n",
    "    lat_max = target_coords[0]\n",
    "    lat_min = lat_max - length\n",
    "    long_min = target_coords[1]\n",
    "    long_max = long_min + length\n",
    "    \n",
    "    # length variables\n",
    "    xlen = data.shape[1]\n",
    "    ylen = data.shape[0]\n",
    "    \n",
    "    # find xmin and xmax\n",
    "    xmin, xmax = None, None\n",
    "    for x in range(xlen):\n",
    "        if long[0, x] > long_min:\n",
    "            xmin = x if xmin == None else xmin\n",
    "        if long[0, xlen - x - 1] < long_max:\n",
    "            xmax = xlen - x - 1 if xmax == None else xmax\n",
    "            \n",
    "    # find ymin and ymax\n",
    "    ymin, ymax = None, None\n",
    "    for y in range(ylen):\n",
    "        if lat[ylen - y - 1, 0] > lat_min:\n",
    "            ymin = ylen - y - 1 if ymin == None else ymin\n",
    "        if lat[y, 0] < lat_max:\n",
    "            ymax = y if ymax == None else ymax\n",
    "            \n",
    "    # index data from top-bottom, left-right\n",
    "    return data[ymax:ymin + border, xmin:xmax + border]"
   ]
  },
  {
   "cell_type": "code",
   "execution_count": 17,
   "metadata": {},
   "outputs": [],
   "source": [
    "# Segmenting Maize Data 10S60W\n",
    "target_coords = (-10, -60)\n",
    "lat, long = get_lat_long(soybean_data, soybean_src)\n",
    "\n",
    "soybean_data_seg = segment_coords(soybean_data, lat, long, target_coords, border = 1, length = 10)\n"
   ]
  },
  {
   "cell_type": "code",
   "execution_count": 25,
   "metadata": {},
   "outputs": [],
   "source": [
    "seg = Image.fromarray(soybean_data_seg)\n",
    "seg.save(\"../data/raw/segmented/{lat}{long}/soy_{lat}{long}.tif\".format(lat = \"10S\", long = \"60W\"))"
   ]
  },
  {
   "cell_type": "code",
   "execution_count": null,
   "metadata": {},
   "outputs": [],
   "source": []
  }
 ],
 "metadata": {
  "kernelspec": {
   "display_name": "Python 3",
   "language": "python",
   "name": "python3"
  },
  "language_info": {
   "codemirror_mode": {
    "name": "ipython",
    "version": 3
   },
   "file_extension": ".py",
   "mimetype": "text/x-python",
   "name": "python",
   "nbconvert_exporter": "python",
   "pygments_lexer": "ipython3",
   "version": "3.7.4"
  }
 },
 "nbformat": 4,
 "nbformat_minor": 2
}
