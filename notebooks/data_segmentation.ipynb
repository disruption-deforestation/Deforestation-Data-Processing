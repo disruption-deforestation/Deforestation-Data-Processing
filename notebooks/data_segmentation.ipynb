{
 "cells": [
  {
   "cell_type": "code",
   "execution_count": 1,
   "metadata": {},
   "outputs": [],
   "source": [
    "import rasterio as rio\n",
    "import numpy as np\n",
    "from PIL import Image"
   ]
  },
  {
   "cell_type": "code",
   "execution_count": 2,
   "metadata": {},
   "outputs": [],
   "source": [
    "def load_data(path_dict):\n",
    "    data_dict = dict()\n",
    "    for key, value in path_dict.items():\n",
    "        with rio.open(value) as src:\n",
    "            data = src.read()\n",
    "            data = np.squeeze(data).astype(\"float32\")\n",
    "            data_dict[key] = (data, src)\n",
    "    return data_dict"
   ]
  },
  {
   "cell_type": "code",
   "execution_count": 3,
   "metadata": {},
   "outputs": [],
   "source": [
    "def get_lat_long(data, src):\n",
    "    # index array\n",
    "    lat_index = np.arange(0, data.shape[0])\n",
    "    long_index = np.arange(0, data.shape[1])\n",
    "    \n",
    "    # meshgrid\n",
    "    long_grid, lat_grid = np.meshgrid(long_index, lat_index)\n",
    "    \n",
    "    # flattened grids\n",
    "    lat_grid_flat = lat_grid.flatten()\n",
    "    long_grid_flat = long_grid.flatten()\n",
    "    \n",
    "    # getting long and lat\n",
    "    A = src.transform\n",
    "    long, lat = rio.transform.xy(A, lat_grid_flat, long_grid_flat)\n",
    "    \n",
    "    # reshaping to shape of original data\n",
    "    lat = np.array(lat).reshape(data.shape)\n",
    "    long = np.array(long).reshape(data.shape)\n",
    "    \n",
    "    return lat, long\n",
    "\n",
    "def segment_coords(data, lat, long, target_coords = (0, 0), border = 0, length = 10):\n",
    "    # latitude/longitude variables\n",
    "    lat_max = target_coords[0]\n",
    "    lat_min = lat_max - length\n",
    "    long_min = target_coords[1]\n",
    "    long_max = long_min + length\n",
    "    \n",
    "    # length variables\n",
    "    xlen = data.shape[1]\n",
    "    ylen = data.shape[0]\n",
    "    \n",
    "    # find xmin and xmax\n",
    "    xmin, xmax = None, None\n",
    "    for x in range(xlen):\n",
    "        if long[0, x] > long_min:\n",
    "            xmin = x if xmin == None else xmin\n",
    "        if long[0, xlen - x - 1] < long_max:\n",
    "            xmax = xlen - x - 1 if xmax == None else xmax\n",
    "            \n",
    "    # find ymin and ymax\n",
    "    ymin, ymax = None, None\n",
    "    for y in range(ylen):\n",
    "        if lat[ylen - y - 1, 0] > lat_min:\n",
    "            ymin = ylen - y - 1 if ymin == None else ymin\n",
    "        if lat[y, 0] < lat_max:\n",
    "            ymax = y if ymax == None else ymax\n",
    "            \n",
    "    # index data from top-bottom, left-right\n",
    "    return data[ymax:ymin + border, xmin:xmax + border]"
   ]
  },
  {
   "cell_type": "code",
   "execution_count": 4,
   "metadata": {},
   "outputs": [],
   "source": [
    "bean_data_path = \"../data/raw/yields/yield_bean.tif\"\n",
    "carrot_data_path = \"../data/raw/yields/yield_carrot.tif\"\n",
    "cassava_data_path = \"../data/raw/yields/yield_cassava.tif\"\n",
    "chickpea_data_path = \"../data/raw/yields/yield_carrot.tif\"\n",
    "citrus_data_path = \"../data/raw/yields/yield_citrus.tif\"\n",
    "coffee_data_path = \"../data/raw/yields/yield_coffee.tif\"\n",
    "groundnut_data_path = \"../data/raw/yields/yield_groundnut.tif\"\n",
    "maize_data_path = \"../data/raw/yields/yield_maize.tif\"\n",
    "soybean_data_path = \"../data/raw/yields/yield_soybean.tif\"\n",
    "sugarcane_data_path = \"../data/raw/yields/yield_sugarcane.tif\"\n",
    "tomato_data_path = \"../data/raw/yields/yield_tomato.tif\"\n",
    "wheat_data_path = \"../data/raw/yields/yield_wheat.tif\"\n",
    "\n",
    "path_dict = {\"bean\": bean_data_path, \n",
    "            \"carrot\": carrot_data_path,\n",
    "            \"cassava\": cassava_data_path,\n",
    "            \"chickpea\": chickpea_data_path,\n",
    "            \"citrus\": citrus_data_path,\n",
    "            \"coffee\": coffee_data_path,\n",
    "            \"groundnut\": groundnut_data_path,\n",
    "            \"maize\": maize_data_path,\n",
    "            \"soybean\": soybean_data_path,\n",
    "            \"sugarcane\": sugarcane_data_path,\n",
    "            \"tomato\": tomato_data_path,\n",
    "            \"wheat\": wheat_data_path\n",
    "            }\n",
    "data_dict = load_data(path_dict)"
   ]
  },
  {
   "cell_type": "code",
   "execution_count": 35,
   "metadata": {},
   "outputs": [],
   "source": [
    "# Segmenting Data 10S60W\n",
    "target_coords = (-10, -60)\n",
    "lat, long = get_lat_long(data_dict[\"soy\"][0], data_dict[\"soy\"][1])\n",
    "soy_seg = segment_coords(data_dict[\"soy\"][0], lat, long, target_coords, border = 1, length = 10)"
   ]
  },
  {
   "cell_type": "code",
   "execution_count": null,
   "metadata": {},
   "outputs": [],
   "source": [
    "# Segmenting Data 0N70W\n",
    "target_coords = (0, -70)\n",
    "for key, data in data_dict.values():\n",
    "    lat, long = get_lat_long(data_dict[key][0], data_dict[key][1])\n",
    "    seg = segment_coords(data_dict[key][0], lat, long, target_coords, border = 1, length = 10)"
   ]
  },
  {
   "cell_type": "code",
   "execution_count": 36,
   "metadata": {},
   "outputs": [],
   "source": [
    "soy_seg = Image.fromarray(soy_seg)\n",
    "soy_seg.save(\"../data/raw/segmented/{lat}{long}/soy_{lat}{long}.tif\".format(lat = \"10S\", long = \"60W\"))"
   ]
  },
  {
   "cell_type": "code",
   "execution_count": null,
   "metadata": {},
   "outputs": [],
   "source": []
  }
 ],
 "metadata": {
  "kernelspec": {
   "display_name": "Python 3",
   "language": "python",
   "name": "python3"
  },
  "language_info": {
   "codemirror_mode": {
    "name": "ipython",
    "version": 3
   },
   "file_extension": ".py",
   "mimetype": "text/x-python",
   "name": "python",
   "nbconvert_exporter": "python",
   "pygments_lexer": "ipython3",
   "version": "3.7.4"
  }
 },
 "nbformat": 4,
 "nbformat_minor": 2
}
