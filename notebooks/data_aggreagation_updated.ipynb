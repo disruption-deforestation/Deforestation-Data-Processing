{
 "cells": [
  {
   "cell_type": "markdown",
   "metadata": {},
   "source": [
    "# Data Aggregation"
   ]
  },
  {
   "cell_type": "markdown",
   "metadata": {},
   "source": [
    "## I. Import Essential Libraries"
   ]
  },
  {
   "cell_type": "code",
   "execution_count": 1,
   "metadata": {},
   "outputs": [],
   "source": [
    "# Core packages\n",
    "import numpy as np\n",
    "import pandas as pd\n",
    "from scipy.sparse import csr_matrix\n",
    "\n",
    "# Image packages\n",
    "import rasterio as rio\n",
    "import cv2\n",
    "\n",
    "# Visualization packages\n",
    "import matplotlib.pyplot as plt"
   ]
  },
  {
   "cell_type": "markdown",
   "metadata": {},
   "source": [
    "## II. Load Data"
   ]
  },
  {
   "cell_type": "code",
   "execution_count": 103,
   "metadata": {},
   "outputs": [],
   "source": [
    "def load_data(lat, long):\n",
    "    defor_img_path = \"../data/raw/segmented/{lat}{long}/defor_{lat}{long}.tif\".format(lat = lat, long = long)\n",
    "    maize_data_path = \"../data/raw/segmented/{lat}{long}/maize_{lat}{long}.tif\".format(lat = lat, long = long)\n",
    "    soy_data_path = \"../data/raw/segmented/{lat}{long}/soy_{lat}{long}.tif\".format(lat = lat, long = long)\n",
    "\n",
    "\n",
    "    # Loading deforestation data\n",
    "    with rio.open(defor_img_path) as defor_src:\n",
    "        defor_data = defor_src.read()\n",
    "\n",
    "    # Loading maize data\n",
    "    with rio.open(maize_data_path) as maize_src:\n",
    "        maize_data = maize_src.read()\n",
    "        \n",
    "    # Loading soybean data\n",
    "    with rio.open(soy_data_path) as soy_src:\n",
    "        soy_data = soy_src.read()\n",
    "\n",
    "    # Squeeze data (reduce trivial dimensions)\n",
    "    defor_data = np.squeeze(defor_data).astype('float32')\n",
    "    maize_data = np.squeeze(maize_data).astype('float32')\n",
    "    soy_data = np.squeeze(soy_data).astype('float32')\n",
    "    \n",
    "    # Define result\n",
    "    result = {\"maize_data\": maize_data, \"soy_data\": soy_data}\n",
    "    #     # Split defor data by years and add to result\n",
    "#     for year in np.unique(defor_data):\n",
    "#         if year == 0:\n",
    "#             continue\n",
    "#         print(\"Splitting year {}\".format(2000 + year))\n",
    "#         # Split years\n",
    "#         result[\"defor_{}_data\".format(2000 + year)] = csr_matrix((defor_data == year).astype(int))\n",
    "    \n",
    "    return result"
   ]
  },
  {
   "cell_type": "markdown",
   "metadata": {},
   "source": [
    "## III. Gridding Using OpenCV Inter Area\n",
    "https://docs.opencv.org/2.4/modules/imgproc/doc/geometric_transformations.html#resize"
   ]
  },
  {
   "cell_type": "code",
   "execution_count": 104,
   "metadata": {},
   "outputs": [],
   "source": [
    "def grid_data(data_dict, grid_size):\n",
    "    result = dict()\n",
    "    for key, val in data_dict.items():\n",
    "        grid = cv2.resize(val, dsize=(grid_size, grid_size), interpolation = cv2.INTER_AREA)\n",
    "        result[\"{}_grid\".format(key)] = grid\n",
    "\n",
    "    return result"
   ]
  },
  {
   "cell_type": "markdown",
   "metadata": {},
   "source": [
    "## IV. Write To CSV"
   ]
  },
  {
   "cell_type": "code",
   "execution_count": 110,
   "metadata": {},
   "outputs": [],
   "source": [
    "def write_csv(grid_dict, grid_size):\n",
    "    row = np.arange(grid_size ** 2) // grid_size\n",
    "    col = np.arange(grid_size ** 2) % grid_size\n",
    "    df = pd.DataFrame(index = row * grid_size + col)\n",
    "    df[\"row\"] = row\n",
    "    df[\"col\"] = col\n",
    "\n",
    "    for key, val in grid_dict.items():\n",
    "        df[key] = val.flatten()\n",
    "        \n",
    "    output_path = \"../data/processed/aggregate.csv\"\n",
    "    df.to_csv(output_path, index_label = \"id\")\n",
    "        "
   ]
  },
  {
   "cell_type": "code",
   "execution_count": 106,
   "metadata": {},
   "outputs": [],
   "source": [
    "GRID_SIZE = 500\n",
    "LAT, LONG = (\"10S\", \"60W\")\n"
   ]
  },
  {
   "cell_type": "code",
   "execution_count": 107,
   "metadata": {},
   "outputs": [],
   "source": [
    "data_dict = load_data(LAT, LONG)\n"
   ]
  },
  {
   "cell_type": "code",
   "execution_count": 108,
   "metadata": {
    "scrolled": true
   },
   "outputs": [],
   "source": [
    "grid_dict = grid_data(data_dict, GRID_SIZE)\n"
   ]
  },
  {
   "cell_type": "code",
   "execution_count": 111,
   "metadata": {},
   "outputs": [],
   "source": [
    "write_csv(grid_dict, GRID_SIZE)\n"
   ]
  },
  {
   "cell_type": "code",
   "execution_count": null,
   "metadata": {},
   "outputs": [],
   "source": []
  }
 ],
 "metadata": {
  "kernelspec": {
   "display_name": "Python 3",
   "language": "python",
   "name": "python3"
  },
  "language_info": {
   "codemirror_mode": {
    "name": "ipython",
    "version": 3
   },
   "file_extension": ".py",
   "mimetype": "text/x-python",
   "name": "python",
   "nbconvert_exporter": "python",
   "pygments_lexer": "ipython3",
   "version": "3.7.4"
  }
 },
 "nbformat": 4,
 "nbformat_minor": 2
}
