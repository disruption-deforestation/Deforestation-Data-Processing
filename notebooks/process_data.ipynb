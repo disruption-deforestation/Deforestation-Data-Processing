{
 "cells": [
  {
   "cell_type": "code",
   "execution_count": 1,
   "metadata": {},
   "outputs": [],
   "source": [
    "import rasterio as rio\n",
    "import numpy as np\n",
    "from PIL import Image\n",
    "import math\n",
    "# core packages\n",
    "import pandas as pd\n",
    "from scipy.sparse import csr_matrix\n",
    "\n",
    "# image packages\n",
    "import rasterio as rio\n",
    "import cv2\n",
    "\n",
    "# visualization packages\n",
    "import matplotlib.pyplot as plt"
   ]
  },
  {
   "cell_type": "code",
   "execution_count": 2,
   "metadata": {
    "code_folding": [
     18
    ]
   },
   "outputs": [],
   "source": [
    "def calc_bounds(file, target_coords, length = 10): \n",
    "    with rio.open(file) as src:\n",
    "        data = src.read()\n",
    "        data = np.squeeze(data).astype(\"float32\")\n",
    "\n",
    "    lat = target_coords[0]\n",
    "    long = target_coords[1]\n",
    "   \n",
    "    lat_index = np.arange(0, data.shape[0])\n",
    "    long_index = np.arange(0, data.shape[1])\n",
    "\n",
    "    A = src.transform\n",
    "\n",
    "    ymin, xmin = rio.transform.rowcol(A, long, lat - length)\n",
    "    ymax, xmax = rio.transform.rowcol(A, long + length, lat)\n",
    "\n",
    "    return data, xmin, xmax, ymin, ymax\n",
    "\n",
    "def get_coord_string(coords):\n",
    "    if coords[0] < 0:\n",
    "        lat = str(coords[0]*-1) + \"S\" \n",
    "    else:\n",
    "        lat = str(coords[0]) + \"N\"\n",
    "    if coords[1] < 0:\n",
    "        long = str(coords[1]*-1) + \"W\"\n",
    "    else:\n",
    "        long = str(coords[1]) + \"E\"\n",
    "    coord_string = lat + long\n",
    "    \n",
    "    return coord_string\n",
    "\n",
    "def segment(file, target_coords, name):\n",
    "    data, xmin, xmax, ymin, ymax = calc_bounds(file, target_coords)\n",
    "    print(data, xmin, xmax, ymin, ymax)\n",
    "   \n",
    "    seg_data = data[ymax:ymin, xmin:xmax]\n",
    "    seg_img = Image.fromarray(seg_data)\n",
    "    \n",
    "    coords = get_coord_string(target_coords)\n",
    "    \n",
    "    path = \"../data/raw/segmented/\" + str(name) + \"_\" + str(coords) + \".tif\"\n",
    "    seg_img.save(path)\n",
    "    \n",
    "    return seg_data\n",
    "\n",
    "def grid_data(data, colname, grid_size, smaller):\n",
    "        \n",
    "    if smaller:\n",
    "        grid = cv2.resize(data, dsize=(grid_size, grid_size), interpolation = cv2.INTER_LINEAR)\n",
    "    else:\n",
    "        grid = cv2.resize(data, dsize=(grid_size, grid_size), interpolation = cv2.INTER_AREA)\n",
    "\n",
    "    row = np.arange(grid_size ** 2) // grid_size\n",
    "    col = np.arange(grid_size ** 2) % grid_size\n",
    "    \n",
    "    df = pd.DataFrame(index = row * grid_size + col)\n",
    "    df[\"row\"] = row\n",
    "    df[\"col\"] = col\n",
    "    \n",
    "    df[colname] = grid.flatten()\n",
    "    \n",
    "    return df"
   ]
  },
  {
   "cell_type": "markdown",
   "metadata": {},
   "source": [
    "the process_data function segments data passed in according to user-specified parameters and returns a dataframe or csv file with the desired data. see parameters below.\n",
    "\n",
    "- filename: string // path to tif file (oldest data if multiple years of data) \n",
    "\n",
    "- target_coords: int tuple (latitude, longtitude) // upper left corner of desired segment \n",
    "\n",
    "- grid_size: integer // number of rows/cols in data (sqrt of number of values in dataset)\n",
    "\n",
    "- name: string // title of dataset, eg. chirps, pop, yield\n",
    "\n",
    "- years: string (default = \"\") // must input a list of years of data contained in the set if there's more than one year of data\n",
    "\n",
    "- agg_data_path: string // path to existing csv file to be merged with new data\n",
    "\n",
    "- smaller: boolean // false by default, should be true only if data is less granular than the desired grid size"
   ]
  },
  {
   "cell_type": "code",
   "execution_count": 3,
   "metadata": {
    "code_folding": []
   },
   "outputs": [],
   "source": [
    "def process_data(filename, name, target_coords = (-10, -60), grid_size = 500, years = \"\", agg_data_path = \"\", smaller = False):\n",
    "    if agg_data_path == \"\":\n",
    "        agg_df = pd.DataFrame()\n",
    "    else:\n",
    "        agg_df = pd.read_csv(agg_data_path)\n",
    "    \n",
    "    if years != \"\":\n",
    "        year = years[0]\n",
    "\n",
    "        for i in range(len(years)):\n",
    "            file = filename.replace(str(year), str(years[i]))\n",
    "            col = str(name) + \"_\" + str(years[i])\n",
    "            data = segment(file, target_coords, col)\n",
    "            df = grid_data(data, col, grid_size, smaller) \n",
    "            if agg_df.empty:\n",
    "                agg_df = agg_df.append(df)\n",
    "            else:\n",
    "                agg_df = pd.merge(agg_df, df)\n",
    "    else:\n",
    "        df = grid_data(segment(filename, target_coords, name), name, grid_size, smaller)\n",
    "        if agg_df.empty:\n",
    "                agg_df = agg_df.append(df)\n",
    "        else:\n",
    "            agg_df = pd.merge(agg_df, df)\n",
    "    #agg_df.to_csv(\"../data/processed/datasets/\" + name + \"_data\", index_label = \"id\")\n",
    "    agg_df.to_csv(\"../data/processed/datasets/pop_0N70W\", index_label = \"id\")\n",
    "    return agg_df"
   ]
  },
  {
   "cell_type": "code",
   "execution_count": 4,
   "metadata": {},
   "outputs": [],
   "source": [
    "GRID_SIZE = 500\n",
    "# LAT, LONG = (\"10S\", \"60W\")\n",
    "# TARGET_COORDS = (-10, -60)\n",
    "LAT, LONG = (\"0N\", \"70W\")\n",
    "TARGET_COORDS = (0, -70)\n",
    "AGG_DATA_PATH = \"../data/processed/aggregate.csv\"\n",
    "\n",
    "\n",
    "chirps_path = \"../data/raw/chirps/chirps-v2.0.2001.tif\"\n",
    "chirp_years = np.arange(2001, 2019)\n",
    "\n",
    "pop = \"../data/raw/population/gpw_v4_population_count_rev11_2000_30_sec.tif\"\n",
    "pop_years = (2000, 2005, 2010, 2015)\n",
    "\n",
    "yields = \"../data/raw/yields/yield_bean.tif\"\n",
    "yield_years = (\"bean\",\"carrot\",\"cassava\",\"chickpea\",\"citrus\",\"coffee\",\"groundnut\",\"maize\",\"soybean\",\"sugarcane\",\"tomato\",\"wheat\")\n",
    "\n",
    "cropland = \"../data/raw/sa_cropland.tif\"\n",
    "pastures = \"../data/raw/sa_pasture.tif\"\n",
    "#calc slope\n",
    "elevation = \"../data/raw/elevation/srtm_25_15.tif\"\n",
    "elevation_years = (\"25_15\", \"25_16\", \"26_15\", \"26_16\")\n",
    "\n",
    "pollution_path = \"../data/raw/uvai_05.tif\""
   ]
  },
  {
   "cell_type": "code",
   "execution_count": null,
   "metadata": {},
   "outputs": [],
   "source": [
    "# example function call:\n",
    "df = process_data(filename = chirps_path, name = \"chirps\", \n",
    "                  target_coords = TARGET_COORDS, \n",
    "                  years = chirp_years, \n",
    "                  smaller = False)\n",
    "# filename: path to first file in dataset \n",
    "# name: column name of data - will be name_year if years variable is included \n",
    "# years: range of years included, should be in same format as year in filename (i.e. 2018 vs. 18)\n",
    "# smaller: set to true if data granularity is finer than deforestation data, false otherwise, used to set interpolation type "
   ]
  },
  {
   "cell_type": "code",
   "execution_count": 1,
   "metadata": {
    "code_folding": []
   },
   "outputs": [],
   "source": [
    "# should be able to do pd.merge like below to put datasets together, but you can also include the path  \n",
    "# to an aggregate file in the function call and the function will return an aggregate dataset with the \n",
    "# new data included \n",
    "\n",
    "# pd.merge(chirps_70, pop_70).to_csv(\"../data/processed/datasets/data_0N70W.csv\", index = False)"
   ]
  },
  {
   "cell_type": "code",
   "execution_count": 14,
   "metadata": {},
   "outputs": [],
   "source": [
    "pd.merge(chirps_70, pop_70).to_csv(\"../data/processed/datasets/data_0N70W.csv\", index = False)"
   ]
  }
 ],
 "metadata": {
  "kernelspec": {
   "display_name": "Python 3",
   "language": "python",
   "name": "python3"
  },
  "language_info": {
   "codemirror_mode": {
    "name": "ipython",
    "version": 3
   },
   "file_extension": ".py",
   "mimetype": "text/x-python",
   "name": "python",
   "nbconvert_exporter": "python",
   "pygments_lexer": "ipython3",
   "version": "3.7.4"
  }
 },
 "nbformat": 4,
 "nbformat_minor": 2
}
